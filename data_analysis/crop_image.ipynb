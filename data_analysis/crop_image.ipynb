{
 "cells": [
  {
   "cell_type": "code",
   "execution_count": 1,
   "metadata": {},
   "outputs": [],
   "source": [
    "import os\n",
    "import csv\n",
    "import ast\n",
    "import json\n",
    "import copy\n",
    "import torch\n",
    "from PIL import Image\n",
    "import random\n",
    "import pandas as pd\n",
    "import numpy as np\n",
    "from tqdm import tqdm\n",
    "from collections import Counter\n",
    "import matplotlib.pyplot as plt\n",
    "\n",
    "%matplotlib inline"
   ]
  },
  {
   "cell_type": "code",
   "execution_count": 2,
   "metadata": {},
   "outputs": [],
   "source": [
    "with open('/mnt/sda/coral/status/train_sources.txt', 'r') as f:\n",
    "    line = f.read()\n",
    "f.close()\n",
    "train_sources = line.split('\\n')"
   ]
  },
  {
   "cell_type": "code",
   "execution_count": 3,
   "metadata": {},
   "outputs": [],
   "source": [
    "with open('/mnt/sda/coral/status/evaluate_sources.txt', 'r') as f:\n",
    "    line = f.read()\n",
    "f.close()\n",
    "evaluate_sources = line.split('\\n')"
   ]
  },
  {
   "cell_type": "markdown",
   "metadata": {},
   "source": [
    "# Image list in training sources"
   ]
  },
  {
   "cell_type": "code",
   "execution_count": 64,
   "metadata": {},
   "outputs": [
    {
     "name": "stderr",
     "output_type": "stream",
     "text": [
      "100%|██████████| 254/254 [14:59<00:00,  4.71s/it]   \n"
     ]
    }
   ],
   "source": [
    "training_image_all = []\n",
    "for source in tqdm(train_sources, position=0):\n",
    "    image_root_path = '/mnt/sda/coral/' + source + '/images/'\n",
    "    image_list_full = sorted(os.listdir(image_root_path))\n",
    "    image_list = sorted(list(set([il.split('.')[0] for il in image_list_full])))\n",
    "    image_list = [il for il in image_list if set([il+'.jpg', il+'.anns.json']).issubset(set(image_list_full))]\n",
    "    image_list = [image_root_path + il for il in image_list]\n",
    "    training_image_all += image_list"
   ]
  },
  {
   "cell_type": "code",
   "execution_count": 67,
   "metadata": {},
   "outputs": [],
   "source": [
    "with open('/mnt/sda/coral/status/training_image_all.txt', 'w') as f:\n",
    "    f.write('\\n'.join(training_image_all))"
   ]
  },
  {
   "cell_type": "code",
   "execution_count": 93,
   "metadata": {},
   "outputs": [],
   "source": [
    "x = '/media/qimin/seagate5tb/coral_crop/s1002/' + str(anns_json[0]['label'])"
   ]
  },
  {
   "cell_type": "code",
   "execution_count": 103,
   "metadata": {},
   "outputs": [
    {
     "data": {
      "text/plain": [
       "'i843938_s1075_118_2803_3135.jpg'"
      ]
     },
     "execution_count": 103,
     "metadata": {},
     "output_type": "execute_result"
    }
   ],
   "source": [
    "training_image_all[0].split('/')[-1] + '_' + 's1075' + '_' + str(anns_json[0]['label']) + \\\n",
    "    '_' + str(anns_json[0]['row']) + '_' + str(anns_json[0]['col']) + '.jpg'"
   ]
  },
  {
   "cell_type": "code",
   "execution_count": null,
   "metadata": {},
   "outputs": [],
   "source": []
  }
 ],
 "metadata": {
  "kernelspec": {
   "display_name": "Python 3",
   "language": "python",
   "name": "python3"
  },
  "language_info": {
   "codemirror_mode": {
    "name": "ipython",
    "version": 3
   },
   "file_extension": ".py",
   "mimetype": "text/x-python",
   "name": "python",
   "nbconvert_exporter": "python",
   "pygments_lexer": "ipython3",
   "version": "3.7.4"
  }
 },
 "nbformat": 4,
 "nbformat_minor": 2
}
